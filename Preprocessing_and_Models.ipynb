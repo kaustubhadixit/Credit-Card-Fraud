{
  "nbformat": 4,
  "nbformat_minor": 0,
  "metadata": {
    "colab": {
      "name": "Preprocessing and Models.ipynb",
      "provenance": [],
      "collapsed_sections": [],
      "authorship_tag": "ABX9TyMY5JXmkO3/HW5Kx5Z6juQ0",
      "include_colab_link": true
    },
    "kernelspec": {
      "name": "python3",
      "display_name": "Python 3"
    }
  },
  "cells": [
    {
      "cell_type": "markdown",
      "metadata": {
        "id": "view-in-github",
        "colab_type": "text"
      },
      "source": [
        "<a href=\"https://colab.research.google.com/github/kaustubhadixit/Credit-Card-Fraud/blob/main/Preprocessing_and_Models.ipynb\" target=\"_parent\"><img src=\"https://colab.research.google.com/assets/colab-badge.svg\" alt=\"Open In Colab\"/></a>"
      ]
    },
    {
      "cell_type": "markdown",
      "metadata": {
        "id": "vt6dOFum4whk"
      },
      "source": [
        "#**Preprocessing and Model evaluation**\r\n",
        "\r\n",
        "---\r\n",
        "\r\n"
      ]
    },
    {
      "cell_type": "markdown",
      "metadata": {
        "id": "ywlBdWAn5Edq"
      },
      "source": [
        "### **Some Note-worthy Points**\r\n",
        "*   The features are mostly PC components(28 out of 30) which we an not evaluate anything.\r\n",
        "*   We found out in EDA that the dataset is highly imbalanced, so using accuracy as evaluation metric is not a clever idea, the performance metrics should be Confusion Matrix and PR(precision-recall) curve, or maybe Area under PR curve if a single-number metric is needed.\r\n",
        " "
      ]
    },
    {
      "cell_type": "code",
      "metadata": {
        "id": "IzSZG3hf4wO_"
      },
      "source": [
        "# Basic Libraries\r\n",
        "import pandas as pd\r\n",
        "import numpy as np\r\n",
        "import matplotlib.pyplot as plt\r\n",
        "import seaborn as sns"
      ],
      "execution_count": 1,
      "outputs": []
    },
    {
      "cell_type": "code",
      "metadata": {
        "colab": {
          "base_uri": "https://localhost:8080/"
        },
        "id": "BG8lUnP82zoQ",
        "outputId": "56cb4e6a-8ce0-4c82-ae27-5fdee441c854"
      },
      "source": [
        "from google.colab import drive\r\n",
        "drive.mount('/content/drive', force_remount = True)"
      ],
      "execution_count": 2,
      "outputs": [
        {
          "output_type": "stream",
          "text": [
            "Mounted at /content/drive\n"
          ],
          "name": "stdout"
        }
      ]
    },
    {
      "cell_type": "code",
      "metadata": {
        "colab": {
          "base_uri": "https://localhost:8080/",
          "height": 224
        },
        "id": "uux5kki56r5S",
        "outputId": "5a8ddf35-df5d-4354-f059-ffae9ac1b9bf"
      },
      "source": [
        "df = pd.read_csv(\"/content/drive/MyDrive/Datasets/creditcard.csv\") \r\n",
        "df.head()"
      ],
      "execution_count": 3,
      "outputs": [
        {
          "output_type": "execute_result",
          "data": {
            "text/html": [
              "<div>\n",
              "<style scoped>\n",
              "    .dataframe tbody tr th:only-of-type {\n",
              "        vertical-align: middle;\n",
              "    }\n",
              "\n",
              "    .dataframe tbody tr th {\n",
              "        vertical-align: top;\n",
              "    }\n",
              "\n",
              "    .dataframe thead th {\n",
              "        text-align: right;\n",
              "    }\n",
              "</style>\n",
              "<table border=\"1\" class=\"dataframe\">\n",
              "  <thead>\n",
              "    <tr style=\"text-align: right;\">\n",
              "      <th></th>\n",
              "      <th>Time</th>\n",
              "      <th>V1</th>\n",
              "      <th>V2</th>\n",
              "      <th>V3</th>\n",
              "      <th>V4</th>\n",
              "      <th>V5</th>\n",
              "      <th>V6</th>\n",
              "      <th>V7</th>\n",
              "      <th>V8</th>\n",
              "      <th>V9</th>\n",
              "      <th>V10</th>\n",
              "      <th>V11</th>\n",
              "      <th>V12</th>\n",
              "      <th>V13</th>\n",
              "      <th>V14</th>\n",
              "      <th>V15</th>\n",
              "      <th>V16</th>\n",
              "      <th>V17</th>\n",
              "      <th>V18</th>\n",
              "      <th>V19</th>\n",
              "      <th>V20</th>\n",
              "      <th>V21</th>\n",
              "      <th>V22</th>\n",
              "      <th>V23</th>\n",
              "      <th>V24</th>\n",
              "      <th>V25</th>\n",
              "      <th>V26</th>\n",
              "      <th>V27</th>\n",
              "      <th>V28</th>\n",
              "      <th>Amount</th>\n",
              "      <th>Class</th>\n",
              "    </tr>\n",
              "  </thead>\n",
              "  <tbody>\n",
              "    <tr>\n",
              "      <th>0</th>\n",
              "      <td>0.0</td>\n",
              "      <td>-1.359807</td>\n",
              "      <td>-0.072781</td>\n",
              "      <td>2.536347</td>\n",
              "      <td>1.378155</td>\n",
              "      <td>-0.338321</td>\n",
              "      <td>0.462388</td>\n",
              "      <td>0.239599</td>\n",
              "      <td>0.098698</td>\n",
              "      <td>0.363787</td>\n",
              "      <td>0.090794</td>\n",
              "      <td>-0.551600</td>\n",
              "      <td>-0.617801</td>\n",
              "      <td>-0.991390</td>\n",
              "      <td>-0.311169</td>\n",
              "      <td>1.468177</td>\n",
              "      <td>-0.470401</td>\n",
              "      <td>0.207971</td>\n",
              "      <td>0.025791</td>\n",
              "      <td>0.403993</td>\n",
              "      <td>0.251412</td>\n",
              "      <td>-0.018307</td>\n",
              "      <td>0.277838</td>\n",
              "      <td>-0.110474</td>\n",
              "      <td>0.066928</td>\n",
              "      <td>0.128539</td>\n",
              "      <td>-0.189115</td>\n",
              "      <td>0.133558</td>\n",
              "      <td>-0.021053</td>\n",
              "      <td>149.62</td>\n",
              "      <td>0</td>\n",
              "    </tr>\n",
              "    <tr>\n",
              "      <th>1</th>\n",
              "      <td>0.0</td>\n",
              "      <td>1.191857</td>\n",
              "      <td>0.266151</td>\n",
              "      <td>0.166480</td>\n",
              "      <td>0.448154</td>\n",
              "      <td>0.060018</td>\n",
              "      <td>-0.082361</td>\n",
              "      <td>-0.078803</td>\n",
              "      <td>0.085102</td>\n",
              "      <td>-0.255425</td>\n",
              "      <td>-0.166974</td>\n",
              "      <td>1.612727</td>\n",
              "      <td>1.065235</td>\n",
              "      <td>0.489095</td>\n",
              "      <td>-0.143772</td>\n",
              "      <td>0.635558</td>\n",
              "      <td>0.463917</td>\n",
              "      <td>-0.114805</td>\n",
              "      <td>-0.183361</td>\n",
              "      <td>-0.145783</td>\n",
              "      <td>-0.069083</td>\n",
              "      <td>-0.225775</td>\n",
              "      <td>-0.638672</td>\n",
              "      <td>0.101288</td>\n",
              "      <td>-0.339846</td>\n",
              "      <td>0.167170</td>\n",
              "      <td>0.125895</td>\n",
              "      <td>-0.008983</td>\n",
              "      <td>0.014724</td>\n",
              "      <td>2.69</td>\n",
              "      <td>0</td>\n",
              "    </tr>\n",
              "    <tr>\n",
              "      <th>2</th>\n",
              "      <td>1.0</td>\n",
              "      <td>-1.358354</td>\n",
              "      <td>-1.340163</td>\n",
              "      <td>1.773209</td>\n",
              "      <td>0.379780</td>\n",
              "      <td>-0.503198</td>\n",
              "      <td>1.800499</td>\n",
              "      <td>0.791461</td>\n",
              "      <td>0.247676</td>\n",
              "      <td>-1.514654</td>\n",
              "      <td>0.207643</td>\n",
              "      <td>0.624501</td>\n",
              "      <td>0.066084</td>\n",
              "      <td>0.717293</td>\n",
              "      <td>-0.165946</td>\n",
              "      <td>2.345865</td>\n",
              "      <td>-2.890083</td>\n",
              "      <td>1.109969</td>\n",
              "      <td>-0.121359</td>\n",
              "      <td>-2.261857</td>\n",
              "      <td>0.524980</td>\n",
              "      <td>0.247998</td>\n",
              "      <td>0.771679</td>\n",
              "      <td>0.909412</td>\n",
              "      <td>-0.689281</td>\n",
              "      <td>-0.327642</td>\n",
              "      <td>-0.139097</td>\n",
              "      <td>-0.055353</td>\n",
              "      <td>-0.059752</td>\n",
              "      <td>378.66</td>\n",
              "      <td>0</td>\n",
              "    </tr>\n",
              "    <tr>\n",
              "      <th>3</th>\n",
              "      <td>1.0</td>\n",
              "      <td>-0.966272</td>\n",
              "      <td>-0.185226</td>\n",
              "      <td>1.792993</td>\n",
              "      <td>-0.863291</td>\n",
              "      <td>-0.010309</td>\n",
              "      <td>1.247203</td>\n",
              "      <td>0.237609</td>\n",
              "      <td>0.377436</td>\n",
              "      <td>-1.387024</td>\n",
              "      <td>-0.054952</td>\n",
              "      <td>-0.226487</td>\n",
              "      <td>0.178228</td>\n",
              "      <td>0.507757</td>\n",
              "      <td>-0.287924</td>\n",
              "      <td>-0.631418</td>\n",
              "      <td>-1.059647</td>\n",
              "      <td>-0.684093</td>\n",
              "      <td>1.965775</td>\n",
              "      <td>-1.232622</td>\n",
              "      <td>-0.208038</td>\n",
              "      <td>-0.108300</td>\n",
              "      <td>0.005274</td>\n",
              "      <td>-0.190321</td>\n",
              "      <td>-1.175575</td>\n",
              "      <td>0.647376</td>\n",
              "      <td>-0.221929</td>\n",
              "      <td>0.062723</td>\n",
              "      <td>0.061458</td>\n",
              "      <td>123.50</td>\n",
              "      <td>0</td>\n",
              "    </tr>\n",
              "    <tr>\n",
              "      <th>4</th>\n",
              "      <td>2.0</td>\n",
              "      <td>-1.158233</td>\n",
              "      <td>0.877737</td>\n",
              "      <td>1.548718</td>\n",
              "      <td>0.403034</td>\n",
              "      <td>-0.407193</td>\n",
              "      <td>0.095921</td>\n",
              "      <td>0.592941</td>\n",
              "      <td>-0.270533</td>\n",
              "      <td>0.817739</td>\n",
              "      <td>0.753074</td>\n",
              "      <td>-0.822843</td>\n",
              "      <td>0.538196</td>\n",
              "      <td>1.345852</td>\n",
              "      <td>-1.119670</td>\n",
              "      <td>0.175121</td>\n",
              "      <td>-0.451449</td>\n",
              "      <td>-0.237033</td>\n",
              "      <td>-0.038195</td>\n",
              "      <td>0.803487</td>\n",
              "      <td>0.408542</td>\n",
              "      <td>-0.009431</td>\n",
              "      <td>0.798278</td>\n",
              "      <td>-0.137458</td>\n",
              "      <td>0.141267</td>\n",
              "      <td>-0.206010</td>\n",
              "      <td>0.502292</td>\n",
              "      <td>0.219422</td>\n",
              "      <td>0.215153</td>\n",
              "      <td>69.99</td>\n",
              "      <td>0</td>\n",
              "    </tr>\n",
              "  </tbody>\n",
              "</table>\n",
              "</div>"
            ],
            "text/plain": [
              "   Time        V1        V2        V3  ...       V27       V28  Amount  Class\n",
              "0   0.0 -1.359807 -0.072781  2.536347  ...  0.133558 -0.021053  149.62      0\n",
              "1   0.0  1.191857  0.266151  0.166480  ... -0.008983  0.014724    2.69      0\n",
              "2   1.0 -1.358354 -1.340163  1.773209  ... -0.055353 -0.059752  378.66      0\n",
              "3   1.0 -0.966272 -0.185226  1.792993  ...  0.062723  0.061458  123.50      0\n",
              "4   2.0 -1.158233  0.877737  1.548718  ...  0.219422  0.215153   69.99      0\n",
              "\n",
              "[5 rows x 31 columns]"
            ]
          },
          "metadata": {
            "tags": []
          },
          "execution_count": 3
        }
      ]
    },
    {
      "cell_type": "markdown",
      "metadata": {
        "id": "uxUDAQag672c"
      },
      "source": [
        "**Data Split**"
      ]
    },
    {
      "cell_type": "markdown",
      "metadata": {
        "id": "p6vU3SIdoNXU"
      },
      "source": [
        "Test Train and Validate data set splitting\r\n",
        "\r\n",
        "Two classes of fruadulent and not being fraudulent are really imbalanced\r\n"
      ]
    },
    {
      "cell_type": "code",
      "metadata": {
        "id": "Qu7e7Mrc67UX"
      },
      "source": [
        "#test-train and scaling data set\r\n",
        "from sklearn import preprocessing\r\n",
        "from sklearn.preprocessing import StandardScaler\r\n",
        "from sklearn.model_selection import train_test_split, cross_val_score\r\n",
        "\r\n",
        "x = df.drop('Class', axis = 1)\r\n",
        "y = df['Class']\r\n",
        "scaler = StandardScaler()\r\n",
        "scaled_x = scaler.fit_transform(x)\r\n",
        "x_train, x_test, y_train, y_test = train_test_split(x, y, test_size=0.25, stratify=y,random_state=7)\r\n",
        "x_train, x_validate, y_train, y_validate = train_test_split(x_train, y_train, test_size=0.333, stratify=y_train,random_state=7)"
      ],
      "execution_count": 4,
      "outputs": []
    },
    {
      "cell_type": "code",
      "metadata": {
        "id": "EDSWHpv49Snr",
        "colab": {
          "base_uri": "https://localhost:8080/",
          "height": 224
        },
        "outputId": "8066eb77-d8e2-420a-fd93-fe5c4e41b279"
      },
      "source": [
        "x_train.head()"
      ],
      "execution_count": 6,
      "outputs": [
        {
          "output_type": "execute_result",
          "data": {
            "text/html": [
              "<div>\n",
              "<style scoped>\n",
              "    .dataframe tbody tr th:only-of-type {\n",
              "        vertical-align: middle;\n",
              "    }\n",
              "\n",
              "    .dataframe tbody tr th {\n",
              "        vertical-align: top;\n",
              "    }\n",
              "\n",
              "    .dataframe thead th {\n",
              "        text-align: right;\n",
              "    }\n",
              "</style>\n",
              "<table border=\"1\" class=\"dataframe\">\n",
              "  <thead>\n",
              "    <tr style=\"text-align: right;\">\n",
              "      <th></th>\n",
              "      <th>Time</th>\n",
              "      <th>V1</th>\n",
              "      <th>V2</th>\n",
              "      <th>V3</th>\n",
              "      <th>V4</th>\n",
              "      <th>V5</th>\n",
              "      <th>V6</th>\n",
              "      <th>V7</th>\n",
              "      <th>V8</th>\n",
              "      <th>V9</th>\n",
              "      <th>V10</th>\n",
              "      <th>V11</th>\n",
              "      <th>V12</th>\n",
              "      <th>V13</th>\n",
              "      <th>V14</th>\n",
              "      <th>V15</th>\n",
              "      <th>V16</th>\n",
              "      <th>V17</th>\n",
              "      <th>V18</th>\n",
              "      <th>V19</th>\n",
              "      <th>V20</th>\n",
              "      <th>V21</th>\n",
              "      <th>V22</th>\n",
              "      <th>V23</th>\n",
              "      <th>V24</th>\n",
              "      <th>V25</th>\n",
              "      <th>V26</th>\n",
              "      <th>V27</th>\n",
              "      <th>V28</th>\n",
              "      <th>Amount</th>\n",
              "    </tr>\n",
              "  </thead>\n",
              "  <tbody>\n",
              "    <tr>\n",
              "      <th>133442</th>\n",
              "      <td>80390.0</td>\n",
              "      <td>0.740984</td>\n",
              "      <td>-1.159582</td>\n",
              "      <td>-0.153618</td>\n",
              "      <td>0.882426</td>\n",
              "      <td>-0.814985</td>\n",
              "      <td>-0.248992</td>\n",
              "      <td>0.170795</td>\n",
              "      <td>-0.153598</td>\n",
              "      <td>-0.943552</td>\n",
              "      <td>0.641801</td>\n",
              "      <td>-0.749881</td>\n",
              "      <td>-0.215072</td>\n",
              "      <td>-0.420984</td>\n",
              "      <td>0.313670</td>\n",
              "      <td>0.193815</td>\n",
              "      <td>-2.105910</td>\n",
              "      <td>0.466151</td>\n",
              "      <td>0.591819</td>\n",
              "      <td>-1.338544</td>\n",
              "      <td>-0.047127</td>\n",
              "      <td>-0.199021</td>\n",
              "      <td>-0.603959</td>\n",
              "      <td>-0.286118</td>\n",
              "      <td>0.057442</td>\n",
              "      <td>0.527710</td>\n",
              "      <td>-0.259060</td>\n",
              "      <td>-0.007785</td>\n",
              "      <td>0.064953</td>\n",
              "      <td>296.96</td>\n",
              "    </tr>\n",
              "    <tr>\n",
              "      <th>31135</th>\n",
              "      <td>36227.0</td>\n",
              "      <td>-0.780844</td>\n",
              "      <td>0.494574</td>\n",
              "      <td>2.197306</td>\n",
              "      <td>1.534967</td>\n",
              "      <td>-0.386617</td>\n",
              "      <td>1.153088</td>\n",
              "      <td>-0.074777</td>\n",
              "      <td>0.528140</td>\n",
              "      <td>0.550138</td>\n",
              "      <td>-0.111279</td>\n",
              "      <td>0.435288</td>\n",
              "      <td>1.041613</td>\n",
              "      <td>-0.838094</td>\n",
              "      <td>-0.539276</td>\n",
              "      <td>-2.021736</td>\n",
              "      <td>-1.424416</td>\n",
              "      <td>0.904709</td>\n",
              "      <td>-0.505126</td>\n",
              "      <td>1.567234</td>\n",
              "      <td>0.072305</td>\n",
              "      <td>-0.292726</td>\n",
              "      <td>-0.316147</td>\n",
              "      <td>0.070363</td>\n",
              "      <td>0.003170</td>\n",
              "      <td>-0.364385</td>\n",
              "      <td>-0.445388</td>\n",
              "      <td>0.352196</td>\n",
              "      <td>0.209077</td>\n",
              "      <td>35.90</td>\n",
              "    </tr>\n",
              "    <tr>\n",
              "      <th>188004</th>\n",
              "      <td>127783.0</td>\n",
              "      <td>-2.596797</td>\n",
              "      <td>1.449293</td>\n",
              "      <td>-0.318149</td>\n",
              "      <td>-0.428106</td>\n",
              "      <td>-0.390529</td>\n",
              "      <td>-0.034531</td>\n",
              "      <td>0.092946</td>\n",
              "      <td>1.000824</td>\n",
              "      <td>0.730074</td>\n",
              "      <td>0.289158</td>\n",
              "      <td>-0.311317</td>\n",
              "      <td>1.171844</td>\n",
              "      <td>-0.441605</td>\n",
              "      <td>0.104951</td>\n",
              "      <td>-2.609367</td>\n",
              "      <td>-0.414219</td>\n",
              "      <td>0.207221</td>\n",
              "      <td>-0.419406</td>\n",
              "      <td>0.762069</td>\n",
              "      <td>0.168367</td>\n",
              "      <td>-0.384475</td>\n",
              "      <td>-0.661908</td>\n",
              "      <td>-0.077018</td>\n",
              "      <td>-0.385114</td>\n",
              "      <td>0.186976</td>\n",
              "      <td>0.127462</td>\n",
              "      <td>0.358354</td>\n",
              "      <td>0.418059</td>\n",
              "      <td>38.83</td>\n",
              "    </tr>\n",
              "    <tr>\n",
              "      <th>86554</th>\n",
              "      <td>61285.0</td>\n",
              "      <td>1.217627</td>\n",
              "      <td>-1.417515</td>\n",
              "      <td>0.696184</td>\n",
              "      <td>-1.212412</td>\n",
              "      <td>-1.841772</td>\n",
              "      <td>-0.609398</td>\n",
              "      <td>-1.026927</td>\n",
              "      <td>-0.064489</td>\n",
              "      <td>-1.713311</td>\n",
              "      <td>1.329809</td>\n",
              "      <td>0.014029</td>\n",
              "      <td>-0.874884</td>\n",
              "      <td>0.040038</td>\n",
              "      <td>-0.220743</td>\n",
              "      <td>1.043648</td>\n",
              "      <td>-0.541513</td>\n",
              "      <td>0.850984</td>\n",
              "      <td>-0.563866</td>\n",
              "      <td>-0.754210</td>\n",
              "      <td>-0.164374</td>\n",
              "      <td>-0.256285</td>\n",
              "      <td>-0.630228</td>\n",
              "      <td>0.154727</td>\n",
              "      <td>0.335793</td>\n",
              "      <td>-0.041319</td>\n",
              "      <td>-0.410897</td>\n",
              "      <td>0.035865</td>\n",
              "      <td>0.048394</td>\n",
              "      <td>126.05</td>\n",
              "    </tr>\n",
              "    <tr>\n",
              "      <th>179861</th>\n",
              "      <td>124268.0</td>\n",
              "      <td>2.052436</td>\n",
              "      <td>0.024136</td>\n",
              "      <td>-1.596052</td>\n",
              "      <td>0.474595</td>\n",
              "      <td>0.238145</td>\n",
              "      <td>-1.379271</td>\n",
              "      <td>0.608209</td>\n",
              "      <td>-0.533278</td>\n",
              "      <td>0.216936</td>\n",
              "      <td>0.069916</td>\n",
              "      <td>-0.696182</td>\n",
              "      <td>0.915615</td>\n",
              "      <td>0.938755</td>\n",
              "      <td>0.205845</td>\n",
              "      <td>-0.562175</td>\n",
              "      <td>-0.619584</td>\n",
              "      <td>-0.127503</td>\n",
              "      <td>-0.977653</td>\n",
              "      <td>0.181717</td>\n",
              "      <td>-0.132447</td>\n",
              "      <td>-0.010899</td>\n",
              "      <td>0.194556</td>\n",
              "      <td>0.048996</td>\n",
              "      <td>0.138013</td>\n",
              "      <td>0.206514</td>\n",
              "      <td>0.552584</td>\n",
              "      <td>-0.093326</td>\n",
              "      <td>-0.071078</td>\n",
              "      <td>23.95</td>\n",
              "    </tr>\n",
              "  </tbody>\n",
              "</table>\n",
              "</div>"
            ],
            "text/plain": [
              "            Time        V1        V2  ...       V27       V28  Amount\n",
              "133442   80390.0  0.740984 -1.159582  ... -0.007785  0.064953  296.96\n",
              "31135    36227.0 -0.780844  0.494574  ...  0.352196  0.209077   35.90\n",
              "188004  127783.0 -2.596797  1.449293  ...  0.358354  0.418059   38.83\n",
              "86554    61285.0  1.217627 -1.417515  ...  0.035865  0.048394  126.05\n",
              "179861  124268.0  2.052436  0.024136  ... -0.093326 -0.071078   23.95\n",
              "\n",
              "[5 rows x 30 columns]"
            ]
          },
          "metadata": {
            "tags": []
          },
          "execution_count": 6
        }
      ]
    },
    {
      "cell_type": "code",
      "metadata": {
        "id": "iyX9MrQH89fM",
        "colab": {
          "base_uri": "https://localhost:8080/"
        },
        "outputId": "f5793626-b89f-4bf0-ef4a-abdd31a9651b"
      },
      "source": [
        "y_train.head()"
      ],
      "execution_count": 7,
      "outputs": [
        {
          "output_type": "execute_result",
          "data": {
            "text/plain": [
              "133442    0\n",
              "31135     0\n",
              "188004    0\n",
              "86554     0\n",
              "179861    0\n",
              "Name: Class, dtype: int64"
            ]
          },
          "metadata": {
            "tags": []
          },
          "execution_count": 7
        }
      ]
    },
    {
      "cell_type": "code",
      "metadata": {
        "id": "GwRP3VHk61SW",
        "colab": {
          "base_uri": "https://localhost:8080/",
          "height": 224
        },
        "outputId": "2023edb6-c783-47cb-c952-069068d44b28"
      },
      "source": [
        "x_validate.head()"
      ],
      "execution_count": 8,
      "outputs": [
        {
          "output_type": "execute_result",
          "data": {
            "text/html": [
              "<div>\n",
              "<style scoped>\n",
              "    .dataframe tbody tr th:only-of-type {\n",
              "        vertical-align: middle;\n",
              "    }\n",
              "\n",
              "    .dataframe tbody tr th {\n",
              "        vertical-align: top;\n",
              "    }\n",
              "\n",
              "    .dataframe thead th {\n",
              "        text-align: right;\n",
              "    }\n",
              "</style>\n",
              "<table border=\"1\" class=\"dataframe\">\n",
              "  <thead>\n",
              "    <tr style=\"text-align: right;\">\n",
              "      <th></th>\n",
              "      <th>Time</th>\n",
              "      <th>V1</th>\n",
              "      <th>V2</th>\n",
              "      <th>V3</th>\n",
              "      <th>V4</th>\n",
              "      <th>V5</th>\n",
              "      <th>V6</th>\n",
              "      <th>V7</th>\n",
              "      <th>V8</th>\n",
              "      <th>V9</th>\n",
              "      <th>V10</th>\n",
              "      <th>V11</th>\n",
              "      <th>V12</th>\n",
              "      <th>V13</th>\n",
              "      <th>V14</th>\n",
              "      <th>V15</th>\n",
              "      <th>V16</th>\n",
              "      <th>V17</th>\n",
              "      <th>V18</th>\n",
              "      <th>V19</th>\n",
              "      <th>V20</th>\n",
              "      <th>V21</th>\n",
              "      <th>V22</th>\n",
              "      <th>V23</th>\n",
              "      <th>V24</th>\n",
              "      <th>V25</th>\n",
              "      <th>V26</th>\n",
              "      <th>V27</th>\n",
              "      <th>V28</th>\n",
              "      <th>Amount</th>\n",
              "    </tr>\n",
              "  </thead>\n",
              "  <tbody>\n",
              "    <tr>\n",
              "      <th>235022</th>\n",
              "      <td>148209.0</td>\n",
              "      <td>1.876555</td>\n",
              "      <td>-0.677943</td>\n",
              "      <td>0.030167</td>\n",
              "      <td>0.958975</td>\n",
              "      <td>-1.133622</td>\n",
              "      <td>0.107030</td>\n",
              "      <td>-1.170058</td>\n",
              "      <td>0.238782</td>\n",
              "      <td>2.309412</td>\n",
              "      <td>-0.843912</td>\n",
              "      <td>-1.449834</td>\n",
              "      <td>0.577206</td>\n",
              "      <td>-0.117093</td>\n",
              "      <td>-2.407001</td>\n",
              "      <td>-1.557900</td>\n",
              "      <td>0.108310</td>\n",
              "      <td>1.104052</td>\n",
              "      <td>0.117430</td>\n",
              "      <td>0.290656</td>\n",
              "      <td>-0.145042</td>\n",
              "      <td>-0.196969</td>\n",
              "      <td>-0.051074</td>\n",
              "      <td>0.204988</td>\n",
              "      <td>-0.145606</td>\n",
              "      <td>-0.409569</td>\n",
              "      <td>0.577438</td>\n",
              "      <td>0.035560</td>\n",
              "      <td>-0.011282</td>\n",
              "      <td>27.03</td>\n",
              "    </tr>\n",
              "    <tr>\n",
              "      <th>86482</th>\n",
              "      <td>61255.0</td>\n",
              "      <td>1.442342</td>\n",
              "      <td>-0.473006</td>\n",
              "      <td>-2.123184</td>\n",
              "      <td>-1.674132</td>\n",
              "      <td>2.012195</td>\n",
              "      <td>2.760898</td>\n",
              "      <td>-0.580268</td>\n",
              "      <td>0.594512</td>\n",
              "      <td>-1.270083</td>\n",
              "      <td>0.344109</td>\n",
              "      <td>0.255343</td>\n",
              "      <td>-0.970976</td>\n",
              "      <td>0.037177</td>\n",
              "      <td>-0.733321</td>\n",
              "      <td>0.711131</td>\n",
              "      <td>1.376035</td>\n",
              "      <td>0.633410</td>\n",
              "      <td>-0.664617</td>\n",
              "      <td>0.826651</td>\n",
              "      <td>0.271638</td>\n",
              "      <td>0.148436</td>\n",
              "      <td>0.175574</td>\n",
              "      <td>-0.262527</td>\n",
              "      <td>0.974172</td>\n",
              "      <td>0.964258</td>\n",
              "      <td>-0.026516</td>\n",
              "      <td>-0.016367</td>\n",
              "      <td>0.020936</td>\n",
              "      <td>39.90</td>\n",
              "    </tr>\n",
              "    <tr>\n",
              "      <th>132882</th>\n",
              "      <td>80157.0</td>\n",
              "      <td>0.902842</td>\n",
              "      <td>-0.735549</td>\n",
              "      <td>1.228407</td>\n",
              "      <td>1.438787</td>\n",
              "      <td>-0.597468</td>\n",
              "      <td>2.005191</td>\n",
              "      <td>-1.058979</td>\n",
              "      <td>0.618228</td>\n",
              "      <td>1.413758</td>\n",
              "      <td>-0.325440</td>\n",
              "      <td>-0.477471</td>\n",
              "      <td>1.521198</td>\n",
              "      <td>0.562779</td>\n",
              "      <td>-1.043341</td>\n",
              "      <td>-2.021604</td>\n",
              "      <td>-0.294719</td>\n",
              "      <td>-0.115435</td>\n",
              "      <td>0.145303</td>\n",
              "      <td>0.512246</td>\n",
              "      <td>0.083030</td>\n",
              "      <td>-0.000618</td>\n",
              "      <td>0.329155</td>\n",
              "      <td>-0.315148</td>\n",
              "      <td>-1.084718</td>\n",
              "      <td>0.597079</td>\n",
              "      <td>-0.152178</td>\n",
              "      <td>0.106484</td>\n",
              "      <td>0.031241</td>\n",
              "      <td>104.10</td>\n",
              "    </tr>\n",
              "    <tr>\n",
              "      <th>268194</th>\n",
              "      <td>163103.0</td>\n",
              "      <td>0.558657</td>\n",
              "      <td>0.971685</td>\n",
              "      <td>-1.197220</td>\n",
              "      <td>0.328131</td>\n",
              "      <td>1.422573</td>\n",
              "      <td>-0.000450</td>\n",
              "      <td>1.215278</td>\n",
              "      <td>-0.289600</td>\n",
              "      <td>-1.131587</td>\n",
              "      <td>0.289135</td>\n",
              "      <td>0.354837</td>\n",
              "      <td>0.358821</td>\n",
              "      <td>0.560359</td>\n",
              "      <td>0.981603</td>\n",
              "      <td>0.845470</td>\n",
              "      <td>-1.300479</td>\n",
              "      <td>0.057342</td>\n",
              "      <td>0.733627</td>\n",
              "      <td>3.392622</td>\n",
              "      <td>0.288418</td>\n",
              "      <td>0.316095</td>\n",
              "      <td>1.080769</td>\n",
              "      <td>-0.235899</td>\n",
              "      <td>-0.045412</td>\n",
              "      <td>-0.622800</td>\n",
              "      <td>0.520162</td>\n",
              "      <td>0.225966</td>\n",
              "      <td>0.224946</td>\n",
              "      <td>22.50</td>\n",
              "    </tr>\n",
              "    <tr>\n",
              "      <th>178363</th>\n",
              "      <td>123599.0</td>\n",
              "      <td>0.259362</td>\n",
              "      <td>0.388198</td>\n",
              "      <td>0.140224</td>\n",
              "      <td>-1.588408</td>\n",
              "      <td>0.518067</td>\n",
              "      <td>-0.633688</td>\n",
              "      <td>0.615186</td>\n",
              "      <td>-0.133228</td>\n",
              "      <td>0.344169</td>\n",
              "      <td>-0.929353</td>\n",
              "      <td>-0.876982</td>\n",
              "      <td>0.426359</td>\n",
              "      <td>0.679658</td>\n",
              "      <td>-0.142731</td>\n",
              "      <td>0.018635</td>\n",
              "      <td>-0.144054</td>\n",
              "      <td>-0.418120</td>\n",
              "      <td>-0.505889</td>\n",
              "      <td>0.093560</td>\n",
              "      <td>-0.080687</td>\n",
              "      <td>0.029557</td>\n",
              "      <td>0.197112</td>\n",
              "      <td>-0.022775</td>\n",
              "      <td>0.681149</td>\n",
              "      <td>-0.415231</td>\n",
              "      <td>0.706414</td>\n",
              "      <td>-0.041566</td>\n",
              "      <td>-0.007071</td>\n",
              "      <td>1.00</td>\n",
              "    </tr>\n",
              "  </tbody>\n",
              "</table>\n",
              "</div>"
            ],
            "text/plain": [
              "            Time        V1        V2  ...       V27       V28  Amount\n",
              "235022  148209.0  1.876555 -0.677943  ...  0.035560 -0.011282   27.03\n",
              "86482    61255.0  1.442342 -0.473006  ... -0.016367  0.020936   39.90\n",
              "132882   80157.0  0.902842 -0.735549  ...  0.106484  0.031241  104.10\n",
              "268194  163103.0  0.558657  0.971685  ...  0.225966  0.224946   22.50\n",
              "178363  123599.0  0.259362  0.388198  ... -0.041566 -0.007071    1.00\n",
              "\n",
              "[5 rows x 30 columns]"
            ]
          },
          "metadata": {
            "tags": []
          },
          "execution_count": 8
        }
      ]
    },
    {
      "cell_type": "code",
      "metadata": {
        "colab": {
          "base_uri": "https://localhost:8080/"
        },
        "id": "h0YgORJ8txx9",
        "outputId": "f76f5322-2666-4a5e-8f58-cea61612c1eb"
      },
      "source": [
        "from imblearn.over_sampling import SMOTE\r\n",
        "sm = SMOTE(random_state=4001,kind='regular')\r\n",
        "X_res, y_res = sm.fit_sample(x_train, y_train)\r\n",
        "pd.value_counts(y_res)"
      ],
      "execution_count": 18,
      "outputs": [
        {
          "output_type": "stream",
          "text": [
            "/usr/local/lib/python3.6/dist-packages/sklearn/externals/six.py:31: FutureWarning: The module is deprecated in version 0.21 and will be removed in version 0.23 since we've dropped support for Python 2.7. Please rely on the official version of six (https://pypi.org/project/six/).\n",
            "  \"(https://pypi.org/project/six/).\", FutureWarning)\n",
            "/usr/local/lib/python3.6/dist-packages/sklearn/utils/deprecation.py:144: FutureWarning: The sklearn.neighbors.base module is  deprecated in version 0.22 and will be removed in version 0.24. The corresponding classes / functions should instead be imported from sklearn.neighbors. Anything that cannot be imported from sklearn.neighbors is now part of the private API.\n",
            "  warnings.warn(message, FutureWarning)\n",
            "/usr/local/lib/python3.6/dist-packages/sklearn/utils/deprecation.py:87: FutureWarning: Function safe_indexing is deprecated; safe_indexing is deprecated in version 0.22 and will be removed in version 0.24.\n",
            "  warnings.warn(msg, category=FutureWarning)\n"
          ],
          "name": "stderr"
        },
        {
          "output_type": "execute_result",
          "data": {
            "text/plain": [
              "1    142228\n",
              "0    142228\n",
              "dtype: int64"
            ]
          },
          "metadata": {
            "tags": []
          },
          "execution_count": 18
        }
      ]
    },
    {
      "cell_type": "markdown",
      "metadata": {
        "id": "iDfPb740pRuG"
      },
      "source": [
        "## Prediction and Evaluation of Logistic Regression\r\n"
      ]
    },
    {
      "cell_type": "markdown",
      "metadata": {
        "id": "Z2ND4zq0peXJ"
      },
      "source": [
        "**We will use PR AUC over ROC AUC cause PR does not account for true negatives therefore more suited for imbalanced classification**"
      ]
    },
    {
      "cell_type": "markdown",
      "metadata": {
        "id": "3I1igzP0uG9T"
      },
      "source": [
        "### Original"
      ]
    },
    {
      "cell_type": "code",
      "metadata": {
        "colab": {
          "base_uri": "https://localhost:8080/"
        },
        "id": "aWUun10BpMCi",
        "outputId": "de74d6e2-f61f-41b3-ba26-6817f1340373"
      },
      "source": [
        "from sklearn.linear_model import LogisticRegressionCV\r\n",
        "logCV = LogisticRegressionCV(Cs=[0.01,0.1,1,10,100], scoring='average_precision',verbose=0,max_iter = 700, random_state=70)\r\n",
        "logCV.fit(x_train,y_train)\r\n",
        "print(\"The best parameter C is\",logCV.C_[0])"
      ],
      "execution_count": 12,
      "outputs": [
        {
          "output_type": "stream",
          "text": [
            "/usr/local/lib/python3.6/dist-packages/sklearn/linear_model/_logistic.py:940: ConvergenceWarning: lbfgs failed to converge (status=1):\n",
            "STOP: TOTAL NO. of ITERATIONS REACHED LIMIT.\n",
            "\n",
            "Increase the number of iterations (max_iter) or scale the data as shown in:\n",
            "    https://scikit-learn.org/stable/modules/preprocessing.html\n",
            "Please also refer to the documentation for alternative solver options:\n",
            "    https://scikit-learn.org/stable/modules/linear_model.html#logistic-regression\n",
            "  extra_warning_msg=_LOGISTIC_SOLVER_CONVERGENCE_MSG)\n"
          ],
          "name": "stderr"
        },
        {
          "output_type": "stream",
          "text": [
            "The best parameter C is 0.1\n"
          ],
          "name": "stdout"
        }
      ]
    },
    {
      "cell_type": "code",
      "metadata": {
        "colab": {
          "base_uri": "https://localhost:8080/",
          "height": 366
        },
        "id": "KzQMg8AXrY0s",
        "outputId": "b3dee092-c539-44fc-ebb6-cdb2e43e75fe"
      },
      "source": [
        "from sklearn.metrics import average_precision_score, precision_recall_curve\r\n",
        "pred_prob = logCV.predict_proba(x_validate)\r\n",
        "y_score = pred_prob[:,1]\r\n",
        "average_precision = average_precision_score(y_validate, y_score)\r\n",
        "original_precision, original_recall, original_thresholds = precision_recall_curve(y_validate, y_score)\r\n",
        "\r\n",
        "#Plot\r\n",
        "sns.lineplot(original_recall, original_precision, color='red', alpha=0.5,linewidth=2,label='Original logistic')\r\n",
        "plt.xlabel('Recall')\r\n",
        "plt.ylabel('Precision')\r\n",
        "plt.title('Precision-Recall curve')\r\n",
        "plt.legend(loc='upper left', bbox_to_anchor=(1,1), fontsize = 'large')"
      ],
      "execution_count": 23,
      "outputs": [
        {
          "output_type": "stream",
          "text": [
            "/usr/local/lib/python3.6/dist-packages/seaborn/_decorators.py:43: FutureWarning: Pass the following variables as keyword args: x, y. From version 0.12, the only valid positional argument will be `data`, and passing other arguments without an explicit keyword will result in an error or misinterpretation.\n",
            "  FutureWarning\n"
          ],
          "name": "stderr"
        },
        {
          "output_type": "execute_result",
          "data": {
            "text/plain": [
              "<matplotlib.legend.Legend at 0x7fef53343da0>"
            ]
          },
          "metadata": {
            "tags": []
          },
          "execution_count": 23
        },
        {
          "output_type": "display_data",
          "data": {
            "image/png": "[encoded data removed]",
            "text/plain": [
              "<Figure size 432x288 with 1 Axes>"
            ]
          },
          "metadata": {
            "tags": [],
            "needs_background": "light"
          }
        }
      ]
    },
    {
      "cell_type": "markdown",
      "metadata": {
        "id": "ISOIEl5yr4Kk"
      },
      "source": [
        "Above lineplot shows how our model performerd and we can choose an optimised cutoff for best precisionand recall rate."
      ]
    },
    {
      "cell_type": "markdown",
      "metadata": {
        "id": "zeqKcO3kuJhO"
      },
      "source": [
        "### Resampled"
      ]
    },
    {
      "cell_type": "code",
      "metadata": {
        "colab": {
          "base_uri": "https://localhost:8080/"
        },
        "id": "H6acGHSUuC-a",
        "outputId": "431a95dd-a7c1-4abb-9b39-04ac468b1356"
      },
      "source": [
        "from sklearn.linear_model import LogisticRegression\r\n",
        "log_res = LogisticRegression(C=0.1, verbose=0, random_state=70)\r\n",
        "log_res.fit(X_res,y_res)"
      ],
      "execution_count": 20,
      "outputs": [
        {
          "output_type": "execute_result",
          "data": {
            "text/plain": [
              "LogisticRegression(C=0.1, class_weight=None, dual=False, fit_intercept=True,\n",
              "                   intercept_scaling=1, l1_ratio=None, max_iter=100,\n",
              "                   multi_class='auto', n_jobs=None, penalty='l2',\n",
              "                   random_state=5001, solver='lbfgs', tol=0.0001, verbose=0,\n",
              "                   warm_start=False)"
            ]
          },
          "metadata": {
            "tags": []
          },
          "execution_count": 20
        }
      ]
    },
    {
      "cell_type": "code",
      "metadata": {
        "colab": {
          "base_uri": "https://localhost:8080/",
          "height": 400
        },
        "id": "dP1Vv49BuC67",
        "outputId": "75e274f8-0bb2-4f62-e658-362738a17014"
      },
      "source": [
        "predict_prob = log_res.predict_proba(x_validate)\r\n",
        "resampled_score = predict_prob[:,1]\r\n",
        "average_precision = average_precision_score(y_validate, y_score)\r\n",
        "resampled_precision, resampled_recall, resampled_thresholds = precision_recall_curve(y_validate, resampled_score)\r\n",
        "\r\n",
        "#Plot\r\n",
        "sns.lineplot(original_recall, original_precision, color='red', alpha=0.5,linewidth=2.5,label='Original logistic')\r\n",
        "sns.lineplot(resampled_recall, resampled_precision, color='green', alpha=0.5,linewidth=2.5,label='Resampled logistic')\r\n",
        "plt.xlabel('Recall')\r\n",
        "plt.ylabel('Precision')\r\n",
        "plt.title('Precision-Recall curve')\r\n",
        "plt.legend(loc='upper left', bbox_to_anchor=(1,1), fontsize = 'large')"
      ],
      "execution_count": 21,
      "outputs": [
        {
          "output_type": "stream",
          "text": [
            "/usr/local/lib/python3.6/dist-packages/seaborn/_decorators.py:43: FutureWarning: Pass the following variables as keyword args: x, y. From version 0.12, the only valid positional argument will be `data`, and passing other arguments without an explicit keyword will result in an error or misinterpretation.\n",
            "  FutureWarning\n",
            "/usr/local/lib/python3.6/dist-packages/seaborn/_decorators.py:43: FutureWarning: Pass the following variables as keyword args: x, y. From version 0.12, the only valid positional argument will be `data`, and passing other arguments without an explicit keyword will result in an error or misinterpretation.\n",
            "  FutureWarning\n"
          ],
          "name": "stderr"
        },
        {
          "output_type": "execute_result",
          "data": {
            "text/plain": [
              "<matplotlib.legend.Legend at 0x7fef5354f0f0>"
            ]
          },
          "metadata": {
            "tags": []
          },
          "execution_count": 21
        },
        {
          "output_type": "display_data",
          "data": {
            "image/png": "[encoded data removed]",
            "text/plain": [
              "<Figure size 432x288 with 1 Axes>"
            ]
          },
          "metadata": {
            "tags": [],
            "needs_background": "light"
          }
        }
      ]
    },
    {
      "cell_type": "markdown",
      "metadata": {
        "id": "jpM3zKnTvItS"
      },
      "source": [
        "## Prediction and Evaluation Random Forest"
      ]
    },
    {
      "cell_type": "markdown",
      "metadata": {
        "id": "4jun0z-wyNC6"
      },
      "source": [
        "### Resampled"
      ]
    },
    {
      "cell_type": "code",
      "metadata": {
        "colab": {
          "base_uri": "https://localhost:8080/"
        },
        "id": "75z7-kyRuC4J",
        "outputId": "ec3bde13-e4e8-4665-9e25-775027da1da9"
      },
      "source": [
        "from sklearn.ensemble import RandomForestClassifier\r\n",
        "rf = RandomForestClassifier(max_depth=4, n_estimators=150, bootstrap=True, random_state=70)\r\n",
        "rf.fit(X_res,y_res)"
      ],
      "execution_count": 24,
      "outputs": [
        {
          "output_type": "execute_result",
          "data": {
            "text/plain": [
              "RandomForestClassifier(bootstrap=True, ccp_alpha=0.0, class_weight=None,\n",
              "                       criterion='gini', max_depth=4, max_features='auto',\n",
              "                       max_leaf_nodes=None, max_samples=None,\n",
              "                       min_impurity_decrease=0.0, min_impurity_split=None,\n",
              "                       min_samples_leaf=1, min_samples_split=2,\n",
              "                       min_weight_fraction_leaf=0.0, n_estimators=150,\n",
              "                       n_jobs=None, oob_score=False, random_state=707,\n",
              "                       verbose=0, warm_start=False)"
            ]
          },
          "metadata": {
            "tags": []
          },
          "execution_count": 24
        }
      ]
    },
    {
      "cell_type": "code",
      "metadata": {
        "colab": {
          "base_uri": "https://localhost:8080/",
          "height": 434
        },
        "id": "Huw-7T4fuCx8",
        "outputId": "74d5e305-a105-4db9-a277-5c923ae48e7f"
      },
      "source": [
        "pred_prob = rf.predict_proba(x_validate)\r\n",
        "rf_score = pred_prob[:,1]\r\n",
        "average_precision = average_precision_score(y_validate, y_score)\r\n",
        "rf_precision, rf_recall, rf_thresholds = precision_recall_curve(y_validate, rf_score)\r\n",
        "\r\n",
        "#Plot\r\n",
        "sns.lineplot(original_recall, original_precision, color='red', alpha=0.5,linewidth=2.5,label='Original logistic')\r\n",
        "sns.lineplot(resampled_recall, resampled_precision, color='green', alpha=0.5,linewidth=2.5,label='Resampled logistic')\r\n",
        "sns.lineplot(rf_recall, rf_precision, color='violet', alpha=0.5,linewidth=3,label='Resampled random forest')\r\n",
        "plt.xlabel('Recall')\r\n",
        "plt.ylabel('Precision')\r\n",
        "plt.title('Random Forest Precision-Recall curve')\r\n",
        "plt.legend(loc='upper left', bbox_to_anchor=(1,1), fontsize = 'large')"
      ],
      "execution_count": 27,
      "outputs": [
        {
          "output_type": "stream",
          "text": [
            "/usr/local/lib/python3.6/dist-packages/seaborn/_decorators.py:43: FutureWarning: Pass the following variables as keyword args: x, y. From version 0.12, the only valid positional argument will be `data`, and passing other arguments without an explicit keyword will result in an error or misinterpretation.\n",
            "  FutureWarning\n",
            "/usr/local/lib/python3.6/dist-packages/seaborn/_decorators.py:43: FutureWarning: Pass the following variables as keyword args: x, y. From version 0.12, the only valid positional argument will be `data`, and passing other arguments without an explicit keyword will result in an error or misinterpretation.\n",
            "  FutureWarning\n",
            "/usr/local/lib/python3.6/dist-packages/seaborn/_decorators.py:43: FutureWarning: Pass the following variables as keyword args: x, y. From version 0.12, the only valid positional argument will be `data`, and passing other arguments without an explicit keyword will result in an error or misinterpretation.\n",
            "  FutureWarning\n"
          ],
          "name": "stderr"
        },
        {
          "output_type": "execute_result",
          "data": {
            "text/plain": [
              "<matplotlib.legend.Legend at 0x7fef530c6278>"
            ]
          },
          "metadata": {
            "tags": []
          },
          "execution_count": 27
        },
        {
          "output_type": "display_data",
          "data": {
            "image/png": "[encoded data removed]",
            "text/plain": [
              "<Figure size 432x288 with 1 Axes>"
            ]
          },
          "metadata": {
            "tags": [],
            "needs_background": "light"
          }
        }
      ]
    },
    {
      "cell_type": "markdown",
      "metadata": {
        "id": "9jWkbUOAyUjA"
      },
      "source": [
        "### Original"
      ]
    },
    {
      "cell_type": "code",
      "metadata": {
        "colab": {
          "base_uri": "https://localhost:8080/"
        },
        "id": "XgzScACUsj9x",
        "outputId": "acf98dcd-c676-442b-c5d0-65d8ac7353cb"
      },
      "source": [
        "from sklearn.ensemble import RandomForestClassifier\r\n",
        "rf1 = RandomForestClassifier(max_depth=4, n_estimators=150, bootstrap=True, random_state=70)\r\n",
        "rf1.fit(x_train,y_train)"
      ],
      "execution_count": 28,
      "outputs": [
        {
          "output_type": "execute_result",
          "data": {
            "text/plain": [
              "RandomForestClassifier(bootstrap=True, ccp_alpha=0.0, class_weight=None,\n",
              "                       criterion='gini', max_depth=4, max_features='auto',\n",
              "                       max_leaf_nodes=None, max_samples=None,\n",
              "                       min_impurity_decrease=0.0, min_impurity_split=None,\n",
              "                       min_samples_leaf=1, min_samples_split=2,\n",
              "                       min_weight_fraction_leaf=0.0, n_estimators=150,\n",
              "                       n_jobs=None, oob_score=False, random_state=70, verbose=0,\n",
              "                       warm_start=False)"
            ]
          },
          "metadata": {
            "tags": []
          },
          "execution_count": 28
        }
      ]
    },
    {
      "cell_type": "code",
      "metadata": {
        "colab": {
          "base_uri": "https://localhost:8080/",
          "height": 468
        },
        "id": "TIX42HBesjyZ",
        "outputId": "0abda3df-ecb6-4040-b151-34bc9455d89e"
      },
      "source": [
        "pred_prob = rf1.predict_proba(x_validate)\r\n",
        "rf1_score = pred_prob[:,1]\r\n",
        "average_precision = average_precision_score(y_validate, y_score)\r\n",
        "rf1_precision, rf1_recall, rf1_thresholds = precision_recall_curve(y_validate, rf1_score)\r\n",
        "\r\n",
        "#Plot\r\n",
        "sns.lineplot(original_recall, original_precision, color='red', alpha=0.5,linewidth=2.5,label='Original logistic')\r\n",
        "sns.lineplot(resampled_recall, resampled_precision, color='green', alpha=0.5,linewidth=2.5,label='Resampled logistic')\r\n",
        "sns.lineplot(rf1_recall, rf1_precision, color='purple', alpha=0.5,linewidth=3,label='Original random forest')\r\n",
        "sns.lineplot(rf_recall, rf_precision, color='blue', alpha=0.5,linewidth=3,label='Resampled random forest')\r\n",
        "plt.xlabel('Recall')\r\n",
        "plt.ylabel('Precision')\r\n",
        "plt.title('Random Forest Precision-Recall curve')\r\n",
        "plt.legend(loc='upper left', bbox_to_anchor=(1,1), fontsize = 'large')"
      ],
      "execution_count": 34,
      "outputs": [
        {
          "output_type": "stream",
          "text": [
            "/usr/local/lib/python3.6/dist-packages/seaborn/_decorators.py:43: FutureWarning: Pass the following variables as keyword args: x, y. From version 0.12, the only valid positional argument will be `data`, and passing other arguments without an explicit keyword will result in an error or misinterpretation.\n",
            "  FutureWarning\n",
            "/usr/local/lib/python3.6/dist-packages/seaborn/_decorators.py:43: FutureWarning: Pass the following variables as keyword args: x, y. From version 0.12, the only valid positional argument will be `data`, and passing other arguments without an explicit keyword will result in an error or misinterpretation.\n",
            "  FutureWarning\n",
            "/usr/local/lib/python3.6/dist-packages/seaborn/_decorators.py:43: FutureWarning: Pass the following variables as keyword args: x, y. From version 0.12, the only valid positional argument will be `data`, and passing other arguments without an explicit keyword will result in an error or misinterpretation.\n",
            "  FutureWarning\n",
            "/usr/local/lib/python3.6/dist-packages/seaborn/_decorators.py:43: FutureWarning: Pass the following variables as keyword args: x, y. From version 0.12, the only valid positional argument will be `data`, and passing other arguments without an explicit keyword will result in an error or misinterpretation.\n",
            "  FutureWarning\n"
          ],
          "name": "stderr"
        },
        {
          "output_type": "execute_result",
          "data": {
            "text/plain": [
              "<matplotlib.legend.Legend at 0x7fef52e37320>"
            ]
          },
          "metadata": {
            "tags": []
          },
          "execution_count": 34
        },
        {
          "output_type": "display_data",
          "data": {
            "image/png": "[encoded data removed]",
            "text/plain": [
              "<Figure size 432x288 with 1 Axes>"
            ]
          },
          "metadata": {
            "tags": [],
            "needs_background": "light"
          }
        }
      ]
    },
    {
      "cell_type": "markdown",
      "metadata": {
        "id": "63WAp_s55-sT"
      },
      "source": [
        "### Cluster Before Prediction on Original Set"
      ]
    },
    {
      "cell_type": "code",
      "metadata": {
        "id": "ctTwi6hj5-Fs"
      },
      "source": [
        "from sklearn.cluster import KMeans\r\n",
        "x_train_minority, x_train_majority = x_train[y_train==1], x_train[y_train==0]\r\n",
        "kmeans = KMeans(n_clusters=20, random_state=70).fit(x_train_majority)"
      ],
      "execution_count": 47,
      "outputs": []
    },
    {
      "cell_type": "code",
      "metadata": {
        "id": "NIIvxH-F594R"
      },
      "source": [
        "prediction = [0]*len(x_validate)\r\n",
        "for i in range(0,20):\r\n",
        "        majority_segment = x_train_majority[kmeans.labels_==i]\r\n",
        "        X_train_segment = pd.concat([majority_segment,x_train_minority])\r\n",
        "        y_train_segment = [0]*len(majority_segment)+[1]*len(x_train_minority)\r\n",
        "        RF = RandomForestClassifier(max_depth=4, n_estimators=100, bootstrap=True,random_state=701)\r\n",
        "        RF.fit(X_train_segment,y_train_segment)\r\n",
        "        pred_prob = RF.predict_proba(x_validate)\r\n",
        "        prediction = np.add(prediction, pred_prob[:,1])\r\n",
        "prediction = prediction/20"
      ],
      "execution_count": 48,
      "outputs": []
    },
    {
      "cell_type": "code",
      "metadata": {
        "id": "BqO9b1eO6g-J"
      },
      "source": [
        "y_score = prediction\r\n",
        "average_precision = average_precision_score(y_validate, y_score)\r\n",
        "cls_precision, cls_recall, cls_thresholds = precision_recall_curve(y_validate, y_score)"
      ],
      "execution_count": 49,
      "outputs": []
    },
    {
      "cell_type": "code",
      "metadata": {
        "colab": {
          "base_uri": "https://localhost:8080/",
          "height": 502
        },
        "id": "y0VjKURW6g2w",
        "outputId": "f7300df4-40c8-4b78-9c2d-6dcba44f6afa"
      },
      "source": [
        "# Final Plot\r\n",
        "sns.lineplot(original_recall, original_precision, color='red', alpha=0.5,linewidth=2.5,label='Original logistic')\r\n",
        "sns.lineplot(resampled_recall, resampled_precision, color='green', alpha=0.5,linewidth=2.5,label='Resampled logistic')\r\n",
        "sns.lineplot(rf1_recall, rf1_precision, color='purple', alpha=0.5,linewidth=3,label='Original random forest')\r\n",
        "sns.lineplot(rf_recall, rf_precision, color='blue', alpha=0.5,linewidth=3,label='Resampled random forest')\r\n",
        "sns.lineplot(cls_recall, cls_precision, color='orange', alpha=0.5,linewidth=3,label='Clustered random forest')\r\n",
        "plt.xlabel('Recall')\r\n",
        "plt.ylabel('Precision')\r\n",
        "plt.title('Random Forest Precision-Recall curve')\r\n",
        "plt.legend(loc='upper left', bbox_to_anchor=(1,1), fontsize = 'large')"
      ],
      "execution_count": 51,
      "outputs": [
        {
          "output_type": "stream",
          "text": [
            "/usr/local/lib/python3.6/dist-packages/seaborn/_decorators.py:43: FutureWarning: Pass the following variables as keyword args: x, y. From version 0.12, the only valid positional argument will be `data`, and passing other arguments without an explicit keyword will result in an error or misinterpretation.\n",
            "  FutureWarning\n",
            "/usr/local/lib/python3.6/dist-packages/seaborn/_decorators.py:43: FutureWarning: Pass the following variables as keyword args: x, y. From version 0.12, the only valid positional argument will be `data`, and passing other arguments without an explicit keyword will result in an error or misinterpretation.\n",
            "  FutureWarning\n",
            "/usr/local/lib/python3.6/dist-packages/seaborn/_decorators.py:43: FutureWarning: Pass the following variables as keyword args: x, y. From version 0.12, the only valid positional argument will be `data`, and passing other arguments without an explicit keyword will result in an error or misinterpretation.\n",
            "  FutureWarning\n",
            "/usr/local/lib/python3.6/dist-packages/seaborn/_decorators.py:43: FutureWarning: Pass the following variables as keyword args: x, y. From version 0.12, the only valid positional argument will be `data`, and passing other arguments without an explicit keyword will result in an error or misinterpretation.\n",
            "  FutureWarning\n",
            "/usr/local/lib/python3.6/dist-packages/seaborn/_decorators.py:43: FutureWarning: Pass the following variables as keyword args: x, y. From version 0.12, the only valid positional argument will be `data`, and passing other arguments without an explicit keyword will result in an error or misinterpretation.\n",
            "  FutureWarning\n"
          ],
          "name": "stderr"
        },
        {
          "output_type": "execute_result",
          "data": {
            "text/plain": [
              "<matplotlib.legend.Legend at 0x7fef513b3908>"
            ]
          },
          "metadata": {
            "tags": []
          },
          "execution_count": 51
        },
        {
          "output_type": "display_data",
          "data": {
            "image/png": "[encoded data removed]",
            "text/plain": [
              "<Figure size 432x288 with 1 Axes>"
            ]
          },
          "metadata": {
            "tags": [],
            "needs_background": "light"
          }
        }
      ]
    },
    {
      "cell_type": "markdown",
      "metadata": {
        "id": "pvzQnEvU0RGA"
      },
      "source": [
        "**It is pretty clear that *Original Random Forest* have maximum area under the curve, its pretty high in precision compared to any other but it may be overfitted so for more realistic prediction lets go with *Clustered Random Forest***\r\n",
        "\r\n",
        "**When Recall Rate is in range 0.0-0.5, *Clustered Random Forest* is most promising**"
      ]
    },
    {
      "cell_type": "markdown",
      "metadata": {
        "id": "KhQFlpN718KL"
      },
      "source": [
        "## **Threshold and Confusion Matrix**"
      ]
    },
    {
      "cell_type": "code",
      "metadata": {
        "colab": {
          "base_uri": "https://localhost:8080/",
          "height": 35
        },
        "id": "HLH3TYOarncj",
        "outputId": "36d82e97-32ba-425e-b594-22ee77e0218e"
      },
      "source": [
        "error = []\r\n",
        "for recall, precision in zip(cls_recall, cls_precision):\r\n",
        "    err = (recall-0.90)**2 + (precision-0.83)**2\r\n",
        "    error.append(err)\r\n",
        "error = np.asarray(error)\r\n",
        "min_index = np.where(error==min(error))\r\n",
        "opt_threshold = cls_thresholds[min_index]\r\n",
        "\"The optimised threshold is: {0:0.3f}\".format(opt_threshold[0])"
      ],
      "execution_count": 52,
      "outputs": [
        {
          "output_type": "execute_result",
          "data": {
            "application/vnd.google.colaboratory.intrinsic+json": {
              "type": "string"
            },
            "text/plain": [
              "'The optimised threshold is: 0.753'"
            ]
          },
          "metadata": {
            "tags": []
          },
          "execution_count": 52
        }
      ]
    },
    {
      "cell_type": "code",
      "metadata": {
        "colab": {
          "base_uri": "https://localhost:8080/",
          "height": 298
        },
        "id": "3O4Wbabj3kYI",
        "outputId": "9d09d07f-daf5-4bc4-bc2d-367cb57335d9"
      },
      "source": [
        "from sklearn.metrics import confusion_matrix\r\n",
        "y_pred = [1 if x > opt_threshold else 0 for x in y_score]\r\n",
        "conf = confusion_matrix(y_validate,y_pred)\r\n",
        "conf = pd.DataFrame(conf, range(2),range(2))\r\n",
        "sns.heatmap(conf, annot=True, fmt='g', annot_kws={\"size\": 21})\r\n",
        "plt.title('Confusion matrix for validation set')"
      ],
      "execution_count": 53,
      "outputs": [
        {
          "output_type": "execute_result",
          "data": {
            "text/plain": [
              "Text(0.5, 1.0, 'Confusion matrix for validation set')"
            ]
          },
          "metadata": {
            "tags": []
          },
          "execution_count": 53
        },
        {
          "output_type": "display_data",
          "data": {
            "image/png": "[encoded data removed]",
            "text/plain": [
              "<Figure size 432x288 with 2 Axes>"
            ]
          },
          "metadata": {
            "tags": [],
            "needs_background": "light"
          }
        }
      ]
    },
    {
      "cell_type": "markdown",
      "metadata": {
        "id": "g_iKNKjo4kJc"
      },
      "source": [
        "# Lets Now **Predict on Test set**"
      ]
    },
    {
      "cell_type": "code",
      "metadata": {
        "colab": {
          "base_uri": "https://localhost:8080/",
          "height": 298
        },
        "id": "5ltX-wn04ftV",
        "outputId": "9d97238b-bb00-4b5d-d781-78af01d2272e"
      },
      "source": [
        "pred_prob = RF.predict_proba(x_test)\r\n",
        "y_score = pred_prob[:,1]\r\n",
        "y_pred = [1 if x > opt_threshold else 0 for x in y_score]\r\n",
        "conf = confusion_matrix(y_test,y_pred)\r\n",
        "conf = pd.DataFrame(conf, range(2),range(2))\r\n",
        "sns.heatmap(conf, annot=True, fmt='g', annot_kws={\"size\": 21})\r\n",
        "plt.title('Confusion matrix for prediction on test set')"
      ],
      "execution_count": 54,
      "outputs": [
        {
          "output_type": "execute_result",
          "data": {
            "text/plain": [
              "Text(0.5, 1.0, 'Confusion matrix for prediction on test set')"
            ]
          },
          "metadata": {
            "tags": []
          },
          "execution_count": 54
        },
        {
          "output_type": "display_data",
          "data": {
            "image/png": "[encoded data removed]",
            "text/plain": [
              "<Figure size 432x288 with 2 Axes>"
            ]
          },
          "metadata": {
            "tags": [],
            "needs_background": "light"
          }
        }
      ]
    },
    {
      "cell_type": "markdown",
      "metadata": {
        "id": "96PVWge05hnN"
      },
      "source": [
        "**Results are Pretty good on our chosen model and threshold set and we have similar results in validation set too.**"
      ]
    },
    {
      "cell_type": "markdown",
      "metadata": {
        "id": "Gvx1OPfP7706"
      },
      "source": [
        "\r\n",
        "\r\n",
        "*   In actual situations, accuracy in imbalanced datasets is less prior to choosing an optimised point. We can even lower our precision for better recall.\r\n",
        "*   Loss of not identifying positive ones is much much more than false positives.\r\n",
        "\r\n"
      ]
    },
    {
      "cell_type": "code",
      "metadata": {
        "id": "RVo0qLsA86pf"
      },
      "source": [
        ""
      ],
      "execution_count": null,
      "outputs": []
    }
  ]
}